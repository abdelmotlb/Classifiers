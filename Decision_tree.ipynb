{
  "nbformat": 4,
  "nbformat_minor": 0,
  "metadata": {
    "colab": {
      "provenance": []
    },
    "kernelspec": {
      "name": "python3",
      "display_name": "Python 3"
    },
    "language_info": {
      "name": "python"
    }
  },
  "cells": [
    {
      "cell_type": "markdown",
      "source": [
        "# <font color='orange' size='7px'> ***Need Handling***</font>"
      ],
      "metadata": {
        "id": "1oFAn8ukXU94"
      }
    },
    {
      "cell_type": "markdown",
      "source": [
        "- sorting the attributes according to a specific attribute.\n",
        "- categorical attributes generalization techinque."
      ],
      "metadata": {
        "id": "D7eN0M81XYnf"
      }
    },
    {
      "cell_type": "markdown",
      "source": [
        "# <font color='orange' size='7px'>  ***Imports*** </font>"
      ],
      "metadata": {
        "id": "wgqs0PNcUcwy"
      }
    },
    {
      "cell_type": "code",
      "execution_count": 2,
      "metadata": {
        "id": "jCV-L53nUYPs"
      },
      "outputs": [],
      "source": [
        "from sklearn.tree import DecisionTreeClassifier\n",
        "from sklearn.metrics import accuracy_score, confusion_matrix, classification_report\n",
        "import numpy as np\n",
        "import pandas as pd\n",
        "from sklearn.preprocessing import LabelEncoder"
      ]
    },
    {
      "cell_type": "markdown",
      "source": [
        "# <font color='orange' size='7px'>  ***Preprocessing*** </font>"
      ],
      "metadata": {
        "id": "0b45_peEVrDB"
      }
    },
    {
      "cell_type": "code",
      "source": [
        "def formalize_data(df):\n",
        "    '''\n",
        "    parameter: dataframe: df\n",
        "    functionality: converting all categorical attributes using label encoder to be ready to algorithm.\n",
        "    '''\n",
        "    le = LabelEncoder()\n",
        "    for column in df.columns:\n",
        "        if df[column].dtype != 'object': continue\n",
        "        df[column] = le.fit_transform(df[column])\n",
        "    return df"
      ],
      "metadata": {
        "id": "kobapx-UVtw5"
      },
      "execution_count": 3,
      "outputs": []
    },
    {
      "cell_type": "markdown",
      "source": [
        "# <font color='orange' size='7px'>  ***Algorithm*** </font>"
      ],
      "metadata": {
        "id": "NnkcaeJaUk2p"
      }
    },
    {
      "cell_type": "markdown",
      "source": [
        "## <font color='orange' size='7px'>  ***Measures*** </font>"
      ],
      "metadata": {
        "id": "5dEhhYbMUukK"
      }
    },
    {
      "cell_type": "code",
      "source": [
        "def gini_index(y):\n",
        "    classes = np.unique(y)\n",
        "    n = len(y)\n",
        "    gini = 0\n",
        "    for cls in classes:\n",
        "        p = np.sum(y == cls) / n\n",
        "        gini += p * p\n",
        "    gini =  1 - gini\n",
        "    return gini"
      ],
      "metadata": {
        "id": "xSs5um2aUsqx"
      },
      "execution_count": 4,
      "outputs": []
    },
    {
      "cell_type": "markdown",
      "source": [
        "# ***Basic Fundamental unit: Decision stump***"
      ],
      "metadata": {
        "id": "Z8K0b_eZU1ni"
      }
    },
    {
      "cell_type": "code",
      "source": [
        "def find_best_split(X, y):\n",
        "    best_gini = float('inf')\n",
        "    best_feature = None\n",
        "    best_threshold = None\n",
        "    Dy = None\n",
        "    Dn = None\n",
        "    Yy = None\n",
        "    Yn = None\n",
        "\n",
        "    for feature in range(X.shape[1]):\n",
        "        # print(f'x: {X}')\n",
        "        thresholds = np.unique(X[:, feature])\n",
        "        for threshold in thresholds:\n",
        "            left_indices = np.where(X[:, feature] <= threshold)[0]\n",
        "            right_indices = np.where(X[:, feature] > threshold)[0]\n",
        "\n",
        "            left_gini = gini_index(y[left_indices])\n",
        "            right_gini = gini_index(y[right_indices])\n",
        "\n",
        "            weighted_gini = (len(left_indices) / len(y)) * left_gini + (len(right_indices) / len(y)) * right_gini\n",
        "            print(f'feature: {feature}, threshold: {threshold}, weighted_gini: {weighted_gini}')\n",
        "\n",
        "            if weighted_gini < best_gini:\n",
        "                best_gini = weighted_gini\n",
        "                best_feature = feature\n",
        "                best_threshold = threshold\n",
        "                Dy = X[left_indices]\n",
        "                Dn = X[right_indices]\n",
        "                Yy = y[left_indices]\n",
        "                Yn = y[right_indices]\n",
        "\n",
        "    return best_gini, best_feature, best_threshold, Dy, Dn, Yy, Yn"
      ],
      "metadata": {
        "id": "LUnJjsCoVEOa"
      },
      "execution_count": 5,
      "outputs": []
    },
    {
      "cell_type": "code",
      "source": [
        "def decision_stump_fit(X, y):\n",
        "    best_gini, best_feature, best_threshold, Dy, Dn, Yy, Yn = find_best_split(X, y)\n",
        "    return best_gini, best_feature, best_threshold, Dy, Dn, Yy, Yn"
      ],
      "metadata": {
        "id": "4F85jqbSVKe5"
      },
      "execution_count": 6,
      "outputs": []
    },
    {
      "cell_type": "markdown",
      "source": [
        "## ***Decision Tree***"
      ],
      "metadata": {
        "id": "rjfnjiM-Wljh"
      }
    },
    {
      "cell_type": "code",
      "source": [
        "def decision_tree_fit(X, y, max_depth):\n",
        "    # Base case: if max_depth reached or data is pure\n",
        "    if y.shape[0] == 0 or len(np.unique(y)) == 1:\n",
        "        return None, None, None, X, None, y, None\n",
        "\n",
        "    # Find the best split\n",
        "    gini, feature, threshold, Dy, Dn, Yy, Yn = find_best_split(X, y)\n",
        "    if gini != None:\n",
        "      print(f'best_gini: {gini}\\n', f'best_feature: a{feature + 1}\\n', f'best_threshold: {threshold}\\n', f'depth: {max_depth}\\n', Dy, Dn, Yy, Yn)\n",
        "      print(\"--------------------------------\")\n",
        "\n",
        "    # Base case: if no split improves purity\n",
        "    if gini == float('inf'):\n",
        "        return None, None, None, X, None, y, None\n",
        "\n",
        "    # Recursive call for left and right branches\n",
        "    left_branch = decision_tree_fit(Dy, Yy, max_depth + 1)\n",
        "    right_branch = decision_tree_fit(Dn, Yn, max_depth + 1)"
      ],
      "metadata": {
        "id": "iZJUwb0zWqJH"
      },
      "execution_count": 7,
      "outputs": []
    },
    {
      "cell_type": "markdown",
      "source": [
        "# <font color='orange' size='7px'> ***Testing*** </font>"
      ],
      "metadata": {
        "id": "O0JM5vMbW0s3"
      }
    },
    {
      "cell_type": "code",
      "source": [
        "data = {\n",
        "    'a1': ['T', 'F', 'F', 'T', 'F', 'T', 'F', 'T', 'F'],\n",
        "    'a2': ['T', 'T', 'F', 'F', 'T', 'T', 'T', 'F', 'F'],\n",
        "    'a3': [1.0, 3.0, 4.0, 5.0, 5.0, 6.0, 7.0, 7.0, 8.0],\n",
        "}\n",
        "classes = ['+', '-', '+', '-', '-', '+', '-', '+', '-']\n",
        "\n",
        "df = pd.DataFrame(data)\n",
        "df = formalize_data(df)\n",
        "X = np.array(df)\n",
        "y = np.array(classes)\n",
        "decision_tree_fit(X, y, 0)"
      ],
      "metadata": {
        "colab": {
          "base_uri": "https://localhost:8080/"
        },
        "id": "7GA9AnQIW5Rn",
        "outputId": "165ce8ff-130c-4d9a-d97e-efdfdb617210"
      },
      "execution_count": 8,
      "outputs": [
        {
          "output_type": "stream",
          "name": "stdout",
          "text": [
            "feature: 0, threshold: 0.0, weighted_gini: 0.34444444444444433\n",
            "feature: 0, threshold: 1.0, weighted_gini: 0.49382716049382713\n",
            "feature: 1, threshold: 0.0, weighted_gini: 0.4888888888888889\n",
            "feature: 1, threshold: 1.0, weighted_gini: 0.49382716049382713\n",
            "feature: 2, threshold: 1.0, weighted_gini: 0.41666666666666663\n",
            "feature: 2, threshold: 3.0, weighted_gini: 0.49206349206349215\n",
            "feature: 2, threshold: 4.0, weighted_gini: 0.4444444444444444\n",
            "feature: 2, threshold: 5.0, weighted_gini: 0.4888888888888889\n",
            "feature: 2, threshold: 6.0, weighted_gini: 0.48148148148148145\n",
            "feature: 2, threshold: 7.0, weighted_gini: 0.4444444444444444\n",
            "feature: 2, threshold: 8.0, weighted_gini: 0.49382716049382713\n",
            "best_gini: 0.34444444444444433\n",
            " best_feature: a1\n",
            " best_threshold: 0.0\n",
            " depth: 0\n",
            " [[0. 1. 3.]\n",
            " [0. 0. 4.]\n",
            " [0. 1. 5.]\n",
            " [0. 1. 7.]\n",
            " [0. 0. 8.]] [[1. 1. 1.]\n",
            " [1. 0. 5.]\n",
            " [1. 1. 6.]\n",
            " [1. 0. 7.]] ['-' '+' '-' '-' '-'] ['+' '-' '+' '+']\n",
            "--------------------------------\n",
            "feature: 0, threshold: 0.0, weighted_gini: 0.31999999999999984\n",
            "feature: 1, threshold: 0.0, weighted_gini: 0.2\n",
            "feature: 1, threshold: 1.0, weighted_gini: 0.31999999999999984\n",
            "feature: 2, threshold: 3.0, weighted_gini: 0.30000000000000004\n",
            "feature: 2, threshold: 4.0, weighted_gini: 0.2\n",
            "feature: 2, threshold: 5.0, weighted_gini: 0.26666666666666666\n",
            "feature: 2, threshold: 7.0, weighted_gini: 0.30000000000000004\n",
            "feature: 2, threshold: 8.0, weighted_gini: 0.31999999999999984\n",
            "best_gini: 0.2\n",
            " best_feature: a2\n",
            " best_threshold: 0.0\n",
            " depth: 1\n",
            " [[0. 0. 4.]\n",
            " [0. 0. 8.]] [[0. 1. 3.]\n",
            " [0. 1. 5.]\n",
            " [0. 1. 7.]] ['+' '-'] ['-' '-' '-']\n",
            "--------------------------------\n",
            "feature: 0, threshold: 0.0, weighted_gini: 0.5\n",
            "feature: 1, threshold: 0.0, weighted_gini: 0.5\n",
            "feature: 2, threshold: 4.0, weighted_gini: 0.0\n",
            "feature: 2, threshold: 8.0, weighted_gini: 0.5\n",
            "best_gini: 0.0\n",
            " best_feature: a3\n",
            " best_threshold: 4.0\n",
            " depth: 2\n",
            " [[0. 0. 4.]] [[0. 0. 8.]] ['+'] ['-']\n",
            "--------------------------------\n",
            "feature: 0, threshold: 1.0, weighted_gini: 0.375\n",
            "feature: 1, threshold: 0.0, weighted_gini: 0.25\n",
            "feature: 1, threshold: 1.0, weighted_gini: 0.375\n",
            "feature: 2, threshold: 1.0, weighted_gini: 0.3333333333333333\n",
            "feature: 2, threshold: 5.0, weighted_gini: 0.25\n",
            "feature: 2, threshold: 6.0, weighted_gini: 0.3333333333333333\n",
            "feature: 2, threshold: 7.0, weighted_gini: 0.375\n",
            "best_gini: 0.25\n",
            " best_feature: a2\n",
            " best_threshold: 0.0\n",
            " depth: 1\n",
            " [[1. 0. 5.]\n",
            " [1. 0. 7.]] [[1. 1. 1.]\n",
            " [1. 1. 6.]] ['-' '+'] ['+' '+']\n",
            "--------------------------------\n",
            "feature: 0, threshold: 1.0, weighted_gini: 0.5\n",
            "feature: 1, threshold: 0.0, weighted_gini: 0.5\n",
            "feature: 2, threshold: 5.0, weighted_gini: 0.0\n",
            "feature: 2, threshold: 7.0, weighted_gini: 0.5\n",
            "best_gini: 0.0\n",
            " best_feature: a3\n",
            " best_threshold: 5.0\n",
            " depth: 2\n",
            " [[1. 0. 5.]] [[1. 0. 7.]] ['-'] ['+']\n",
            "--------------------------------\n"
          ]
        }
      ]
    }
  ]
}